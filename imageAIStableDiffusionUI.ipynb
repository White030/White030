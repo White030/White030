<html>
<head>
<title>imageAIStableDiffusionUI.ipynb</title>
<meta http-equiv="Content-Type" content="text/html; charset=utf-8">
<style type="text/css">
.s0 { color: #a9b7c6;}
.ln { color: #606366; font-weight: normal; font-style: normal; }
</style>
</head>
<body bgcolor="#2b2b2b">
<table CELLSPACING=0 CELLPADDING=5 COLS=1 WIDTH="100%" BGCOLOR="#606060" >
<tr><td><center>
<font face="Arial, Helvetica" color="#000000">
imageAIStableDiffusionUI.ipynb</font>
</center></td></tr></table>
<pre><a name="l1"><span class="ln">1    </span></a><span class="s0">{ 
<a name="l2"><span class="ln">2    </span></a>  &quot;nbformat&quot;: 4, 
<a name="l3"><span class="ln">3    </span></a>  &quot;nbformat_minor&quot;: 0, 
<a name="l4"><span class="ln">4    </span></a>  &quot;metadata&quot;: { 
<a name="l5"><span class="ln">5    </span></a>    &quot;colab&quot;: { 
<a name="l6"><span class="ln">6    </span></a>      &quot;provenance&quot;: [], 
<a name="l7"><span class="ln">7    </span></a>      &quot;collapsed_sections&quot;: [] 
<a name="l8"><span class="ln">8    </span></a>    }, 
<a name="l9"><span class="ln">9    </span></a>    &quot;kernelspec&quot;: { 
<a name="l10"><span class="ln">10   </span></a>      &quot;name&quot;: &quot;python3&quot;, 
<a name="l11"><span class="ln">11   </span></a>      &quot;display_name&quot;: &quot;Python 3&quot; 
<a name="l12"><span class="ln">12   </span></a>    }, 
<a name="l13"><span class="ln">13   </span></a>    &quot;language_info&quot;: { 
<a name="l14"><span class="ln">14   </span></a>      &quot;name&quot;: &quot;python&quot; 
<a name="l15"><span class="ln">15   </span></a>    }, 
<a name="l16"><span class="ln">16   </span></a>    &quot;accelerator&quot;: &quot;GPU&quot;, 
<a name="l17"><span class="ln">17   </span></a>    &quot;gpuClass&quot;: &quot;standard&quot; 
<a name="l18"><span class="ln">18   </span></a>  }, 
<a name="l19"><span class="ln">19   </span></a>  &quot;cells&quot;: [ 
<a name="l20"><span class="ln">20   </span></a>    { 
<a name="l21"><span class="ln">21   </span></a>      &quot;cell_type&quot;: &quot;markdown&quot;, 
<a name="l22"><span class="ln">22   </span></a>      &quot;source&quot;: [ 
<a name="l23"><span class="ln">23   </span></a>        &quot;Clone webui repository&quot; 
<a name="l24"><span class="ln">24   </span></a>      ], 
<a name="l25"><span class="ln">25   </span></a>      &quot;metadata&quot;: { 
<a name="l26"><span class="ln">26   </span></a>        &quot;id&quot;: &quot;OHCtG9MT0jLq&quot; 
<a name="l27"><span class="ln">27   </span></a>      } 
<a name="l28"><span class="ln">28   </span></a>    }, 
<a name="l29"><span class="ln">29   </span></a>    { 
<a name="l30"><span class="ln">30   </span></a>      &quot;cell_type&quot;: &quot;code&quot;, 
<a name="l31"><span class="ln">31   </span></a>      &quot;source&quot;: [ 
<a name="l32"><span class="ln">32   </span></a>        &quot;!git clone https://github.com/AUTOMATIC1111/stable-diffusion-webui\n&quot;, 
<a name="l33"><span class="ln">33   </span></a>        &quot;%cd stable-diffusion-webui&quot; 
<a name="l34"><span class="ln">34   </span></a>      ], 
<a name="l35"><span class="ln">35   </span></a>      &quot;metadata&quot;: { 
<a name="l36"><span class="ln">36   </span></a>        &quot;id&quot;: &quot;sBbcB4vwj_jm&quot;, 
<a name="l37"><span class="ln">37   </span></a>        &quot;colab&quot;: { 
<a name="l38"><span class="ln">38   </span></a>          &quot;base_uri&quot;: &quot;https://localhost:8080/&quot; 
<a name="l39"><span class="ln">39   </span></a>        }, 
<a name="l40"><span class="ln">40   </span></a>        &quot;outputId&quot;: &quot;7d5fbd3c-fca4-4223-e0b0-4b7c34996d6f&quot; 
<a name="l41"><span class="ln">41   </span></a>      }, 
<a name="l42"><span class="ln">42   </span></a>      &quot;execution_count&quot;: null, 
<a name="l43"><span class="ln">43   </span></a>      &quot;outputs&quot;: [ 
<a name="l44"><span class="ln">44   </span></a>        { 
<a name="l45"><span class="ln">45   </span></a>          &quot;output_type&quot;: &quot;stream&quot;, 
<a name="l46"><span class="ln">46   </span></a>          &quot;name&quot;: &quot;stdout&quot;, 
<a name="l47"><span class="ln">47   </span></a>          &quot;text&quot;: [ 
<a name="l48"><span class="ln">48   </span></a>            &quot;Cloning into 'stable-diffusion-webui'...\n&quot;, 
<a name="l49"><span class="ln">49   </span></a>            &quot;remote: Enumerating objects: 4564, done.\u001b[K\n&quot;, 
<a name="l50"><span class="ln">50   </span></a>            &quot;remote: Counting objects: 100% (143/143), done.\u001b[K\n&quot;, 
<a name="l51"><span class="ln">51   </span></a>            &quot;remote: Compressing objects: 100% (74/74), done.\u001b[K\n&quot;, 
<a name="l52"><span class="ln">52   </span></a>            &quot;remote: Total 4564 (delta 84), reused 104 (delta 69), pack-reused 4421\u001b[K\n&quot;, 
<a name="l53"><span class="ln">53   </span></a>            &quot;Receiving objects: 100% (4564/4564), 20.39 MiB | 11.05 MiB/s, done.\n&quot;, 
<a name="l54"><span class="ln">54   </span></a>            &quot;Resolving deltas: 100% (3192/3192), done.\n&quot;, 
<a name="l55"><span class="ln">55   </span></a>            &quot;/content/stable-diffusion-webui\n&quot; 
<a name="l56"><span class="ln">56   </span></a>          ] 
<a name="l57"><span class="ln">57   </span></a>        } 
<a name="l58"><span class="ln">58   </span></a>      ] 
<a name="l59"><span class="ln">59   </span></a>    }, 
<a name="l60"><span class="ln">60   </span></a>    { 
<a name="l61"><span class="ln">61   </span></a>      &quot;cell_type&quot;: &quot;markdown&quot;, 
<a name="l62"><span class="ln">62   </span></a>      &quot;source&quot;: [ 
<a name="l63"><span class="ln">63   </span></a>        &quot;Download the model from Leaks.&quot; 
<a name="l64"><span class="ln">64   </span></a>      ], 
<a name="l65"><span class="ln">65   </span></a>      &quot;metadata&quot;: { 
<a name="l66"><span class="ln">66   </span></a>        &quot;id&quot;: &quot;F0EINk5M0s-w&quot; 
<a name="l67"><span class="ln">67   </span></a>      } 
<a name="l68"><span class="ln">68   </span></a>    }, 
<a name="l69"><span class="ln">69   </span></a>    { 
<a name="l70"><span class="ln">70   </span></a>      &quot;cell_type&quot;: &quot;code&quot;, 
<a name="l71"><span class="ln">71   </span></a>      &quot;source&quot;: [ 
<a name="l72"><span class="ln">72   </span></a>        &quot;!mkdir -p /content/stable-diffusion-webui/models/Stable-diffusion /content/stable-diffusion-webui/models/hypernetworks\n&quot;, 
<a name="l73"><span class="ln">73   </span></a>        &quot;%cd /content/stable-diffusion-webui/models/Stable-diffusion/\n&quot;, 
<a name="l74"><span class="ln">74   </span></a>        &quot;\n&quot;, 
<a name="l75"><span class="ln">75   </span></a>        &quot;# 7G animefull-final-latest (may not work)\n&quot;, 
<a name="l76"><span class="ln">76   </span></a>        &quot;# !gdown 17WWd6KEsBj7D_0TyGp8aXHQDlchYVs1a -O /content/stable-diffusion-webui/models/Stable-diffusion/model.ckpt\n&quot;, 
<a name="l77"><span class="ln">77   </span></a>        &quot;\n&quot;, 
<a name="l78"><span class="ln">78   </span></a>        &quot;# 4G animefull-final-pruned\n&quot;, 
<a name="l79"><span class="ln">79   </span></a>        &quot;# !gdown 1d3f2fvN2gLRocBahZrXe_v1EEHuqpUzT -O /content/stable-diffusion-webui/models/Stable-diffusion/model.ckpt\n&quot;, 
<a name="l80"><span class="ln">80   </span></a>        &quot;\n&quot;, 
<a name="l81"><span class="ln">81   </span></a>        &quot;# 4G animefull-final-pruned (backup)\n&quot;, 
<a name="l82"><span class="ln">82   </span></a>        &quot;!curl -Lo model.ckpt https://cloudflare-ipfs.com/ipfs/bafybeicpamreyp2bsocyk3hpxr7ixb2g2rnrequub3j2ahrkdxbvfbvjc4/model.ckpt\n&quot;, 
<a name="l83"><span class="ln">83   </span></a>        &quot;\n&quot;, 
<a name="l84"><span class="ln">84   </span></a>        &quot;# Install VAE Weights (optional)\n&quot;, 
<a name="l85"><span class="ln">85   </span></a>        &quot;!curl -Lo model.vae.pt https://cloudflare-ipfs.com/ipfs/bafybeiccldswdd3wvg57jhclcq53lvsc6gizasiblwayvhlv6eq4wow7wu/animevae.pt \n&quot;, 
<a name="l86"><span class="ln">86   </span></a>        &quot;\n&quot;, 
<a name="l87"><span class="ln">87   </span></a>        &quot;# Install hypernetwork （optional)\n&quot;, 
<a name="l88"><span class="ln">88   </span></a>        &quot;!curl -L https://cloudflare-ipfs.com/ipfs/bafybeiduanx2b3mcvxlwr66igcwnpfmk3nc3qgxlpwh6oq6m6pxii3f77e/_modules.tar | tar x -C /content/stable-diffusion-webui/models/hypernetworks\n&quot;, 
<a name="l89"><span class="ln">89   </span></a>        &quot;\n&quot;, 
<a name="l90"><span class="ln">90   </span></a>        &quot;# Install custom embeddings (modified, optional)\n&quot;, 
<a name="l91"><span class="ln">91   </span></a>        &quot;# !curl -L https://cloudflare-ipfs.com/ipfs/bafybeie3hdjchxs5tz4n75bos53nhcklslguxchdurc2ynrzcfv2kwyklu/embeddings.tar | tar x -C /content/stable-diffusion-webui/embeddings&quot; 
<a name="l92"><span class="ln">92   </span></a>      ], 
<a name="l93"><span class="ln">93   </span></a>      &quot;metadata&quot;: { 
<a name="l94"><span class="ln">94   </span></a>        &quot;colab&quot;: { 
<a name="l95"><span class="ln">95   </span></a>          &quot;base_uri&quot;: &quot;https://localhost:8080/&quot; 
<a name="l96"><span class="ln">96   </span></a>        }, 
<a name="l97"><span class="ln">97   </span></a>        &quot;id&quot;: &quot;ZzRNMT42Gw_p&quot;, 
<a name="l98"><span class="ln">98   </span></a>        &quot;outputId&quot;: &quot;5f256bc3-ce49-4444-e232-72ecbe282330&quot; 
<a name="l99"><span class="ln">99   </span></a>      }, 
<a name="l100"><span class="ln">100  </span></a>      &quot;execution_count&quot;: null, 
<a name="l101"><span class="ln">101  </span></a>      &quot;outputs&quot;: [ 
<a name="l102"><span class="ln">102  </span></a>        { 
<a name="l103"><span class="ln">103  </span></a>          &quot;output_type&quot;: &quot;stream&quot;, 
<a name="l104"><span class="ln">104  </span></a>          &quot;name&quot;: &quot;stdout&quot;, 
<a name="l105"><span class="ln">105  </span></a>          &quot;text&quot;: [ 
<a name="l106"><span class="ln">106  </span></a>            &quot;/content/stable-diffusion-webui/models/Stable-diffusion\n&quot;, 
<a name="l107"><span class="ln">107  </span></a>            &quot;  % Total    % Received % Xferd  Average Speed   Time    Time     Time  Current\n&quot;, 
<a name="l108"><span class="ln">108  </span></a>            &quot;                                 Dload  Upload   Total   Spent    Left  Speed\n&quot;, 
<a name="l109"><span class="ln">109  </span></a>            &quot;100 4067M  100 4067M    0     0   111M      0  0:00:36  0:00:36 --:--:--  145M\n&quot; 
<a name="l110"><span class="ln">110  </span></a>          ] 
<a name="l111"><span class="ln">111  </span></a>        } 
<a name="l112"><span class="ln">112  </span></a>      ] 
<a name="l113"><span class="ln">113  </span></a>    }, 
<a name="l114"><span class="ln">114  </span></a>    { 
<a name="l115"><span class="ln">115  </span></a>      &quot;cell_type&quot;: &quot;markdown&quot;, 
<a name="l116"><span class="ln">116  </span></a>      &quot;source&quot;: [ 
<a name="l117"><span class="ln">117  </span></a>        &quot;Launch web ui. You will get a link to nnn.gradio.app, follow it.\n&quot;, 
<a name="l118"><span class="ln">118  </span></a>        &quot;\n&quot;, 
<a name="l119"><span class="ln">119  </span></a>        &quot;Commandline arguments are:\n&quot;, 
<a name="l120"><span class="ln">120  </span></a>        &quot;  - `--share` - create online gradio.app link\n&quot;, 
<a name="l121"><span class="ln">121  </span></a>        &quot;  - `--gradio-debug` - print outputs to console\n&quot;, 
<a name="l122"><span class="ln">122  </span></a>        &quot;  - `--gradio-auth me:qwerty` - add authentication to gradio: username me, password qwerty&quot; 
<a name="l123"><span class="ln">123  </span></a>      ], 
<a name="l124"><span class="ln">124  </span></a>      &quot;metadata&quot;: { 
<a name="l125"><span class="ln">125  </span></a>        &quot;id&quot;: &quot;xt8lbdmC04ox&quot; 
<a name="l126"><span class="ln">126  </span></a>      } 
<a name="l127"><span class="ln">127  </span></a>    }, 
<a name="l128"><span class="ln">128  </span></a>    { 
<a name="l129"><span class="ln">129  </span></a>      &quot;cell_type&quot;: &quot;code&quot;, 
<a name="l130"><span class="ln">130  </span></a>      &quot;source&quot;: [ 
<a name="l131"><span class="ln">131  </span></a>        &quot;%cd /content/stable-diffusion-webui\n&quot;, 
<a name="l132"><span class="ln">132  </span></a>        &quot;!COMMANDLINE_ARGS=\&quot;--share --gradio-debug --medvram\&quot; REQS_FILE=\&quot;requirements.txt\&quot; python launch.py&quot; 
<a name="l133"><span class="ln">133  </span></a>      ], 
<a name="l134"><span class="ln">134  </span></a>      &quot;metadata&quot;: { 
<a name="l135"><span class="ln">135  </span></a>        &quot;id&quot;: &quot;R-xAdMA5wxXd&quot;, 
<a name="l136"><span class="ln">136  </span></a>        &quot;colab&quot;: { 
<a name="l137"><span class="ln">137  </span></a>          &quot;base_uri&quot;: &quot;https://localhost:8080/&quot; 
<a name="l138"><span class="ln">138  </span></a>        }, 
<a name="l139"><span class="ln">139  </span></a>        &quot;outputId&quot;: &quot;9e234b7e-95f1-4456-d0ed-483989838fef&quot; 
<a name="l140"><span class="ln">140  </span></a>      }, 
<a name="l141"><span class="ln">141  </span></a>      &quot;execution_count&quot;: null, 
<a name="l142"><span class="ln">142  </span></a>      &quot;outputs&quot;: [ 
<a name="l143"><span class="ln">143  </span></a>        { 
<a name="l144"><span class="ln">144  </span></a>          &quot;output_type&quot;: &quot;stream&quot;, 
<a name="l145"><span class="ln">145  </span></a>          &quot;name&quot;: &quot;stdout&quot;, 
<a name="l146"><span class="ln">146  </span></a>          &quot;text&quot;: [ 
<a name="l147"><span class="ln">147  </span></a>            &quot;/content/stable-diffusion-webui\n&quot;, 
<a name="l148"><span class="ln">148  </span></a>            &quot;Python 3.7.14 (default, Sep  8 2022, 00:06:44) \n&quot;, 
<a name="l149"><span class="ln">149  </span></a>            &quot;[GCC 7.5.0]\n&quot;, 
<a name="l150"><span class="ln">150  </span></a>            &quot;Commit hash: 97bc0b9504572d2df80598d0b694703bcd626de6\n&quot;, 
<a name="l151"><span class="ln">151  </span></a>            &quot;Installing requirements for Web UI\n&quot;, 
<a name="l152"><span class="ln">152  </span></a>            &quot;Launching Web UI with arguments: --share --gradio-debug --medvram\n&quot;, 
<a name="l153"><span class="ln">153  </span></a>            &quot;LatentDiffusion: Running in eps-prediction mode\n&quot;, 
<a name="l154"><span class="ln">154  </span></a>            &quot;DiffusionWrapper has 859.52 M params.\n&quot;, 
<a name="l155"><span class="ln">155  </span></a>            &quot;making attention of type 'vanilla' with 512 in_channels\n&quot;, 
<a name="l156"><span class="ln">156  </span></a>            &quot;Working with z of shape (1, 4, 32, 32) = 4096 dimensions.\n&quot;, 
<a name="l157"><span class="ln">157  </span></a>            &quot;making attention of type 'vanilla' with 512 in_channels\n&quot;, 
<a name="l158"><span class="ln">158  </span></a>            &quot;Loading weights [925997e9] from /content/stable-diffusion-webui/models/Stable-diffusion/model.ckpt\n&quot;, 
<a name="l159"><span class="ln">159  </span></a>            &quot;Model loaded.\n&quot;, 
<a name="l160"><span class="ln">160  </span></a>            &quot;Loaded a total of 0 textual inversion embeddings.\n&quot;, 
<a name="l161"><span class="ln">161  </span></a>            &quot;Running on local URL:  http://127.0.0.1:7860\n&quot;, 
<a name="l162"><span class="ln">162  </span></a>            &quot;Running on public URL: https://13759.gradio.app\n&quot;, 
<a name="l163"><span class="ln">163  </span></a>            &quot;\n&quot;, 
<a name="l164"><span class="ln">164  </span></a>            &quot;This share link expires in 72 hours. For free permanent hosting, check out Spaces: https://huggingface.co/spaces\n&quot;, 
<a name="l165"><span class="ln">165  </span></a>            &quot;  0% 0/20 [00:00&lt;?, ?it/s]\n&quot;, 
<a name="l166"><span class="ln">166  </span></a>            &quot;  5% 1/20 [00:04&lt;01:29,  4.71s/it]\n&quot;, 
<a name="l167"><span class="ln">167  </span></a>            &quot; 10% 2/20 [00:04&lt;00:37,  2.08s/it]\n&quot;, 
<a name="l168"><span class="ln">168  </span></a>            &quot; 15% 3/20 [00:05&lt;00:21,  1.24s/it]\n&quot;, 
<a name="l169"><span class="ln">169  </span></a>            &quot; 20% 4/20 [00:05&lt;00:13,  1.18it/s]\n&quot;, 
<a name="l170"><span class="ln">170  </span></a>            &quot; 25% 5/20 [00:05&lt;00:09,  1.59it/s]\n&quot;, 
<a name="l171"><span class="ln">171  </span></a>            &quot; 30% 6/20 [00:05&lt;00:06,  2.01it/s]\n&quot;, 
<a name="l172"><span class="ln">172  </span></a>            &quot; 35% 7/20 [00:06&lt;00:05,  2.42it/s]\n&quot;, 
<a name="l173"><span class="ln">173  </span></a>            &quot; 40% 8/20 [00:06&lt;00:04,  2.79it/s]\n&quot;, 
<a name="l174"><span class="ln">174  </span></a>            &quot; 45% 9/20 [00:06&lt;00:03,  3.11it/s]\n&quot;, 
<a name="l175"><span class="ln">175  </span></a>            &quot; 50% 10/20 [00:06&lt;00:02,  3.37it/s]\n&quot;, 
<a name="l176"><span class="ln">176  </span></a>            &quot; 55% 11/20 [00:07&lt;00:02,  3.58it/s]\n&quot;, 
<a name="l177"><span class="ln">177  </span></a>            &quot; 60% 12/20 [00:07&lt;00:02,  3.73it/s]\n&quot;, 
<a name="l178"><span class="ln">178  </span></a>            &quot; 65% 13/20 [00:07&lt;00:01,  3.85it/s]\n&quot;, 
<a name="l179"><span class="ln">179  </span></a>            &quot; 70% 14/20 [00:07&lt;00:01,  3.93it/s]\n&quot;, 
<a name="l180"><span class="ln">180  </span></a>            &quot; 75% 15/20 [00:08&lt;00:01,  4.01it/s]\n&quot;, 
<a name="l181"><span class="ln">181  </span></a>            &quot; 80% 16/20 [00:08&lt;00:00,  4.05it/s]\n&quot;, 
<a name="l182"><span class="ln">182  </span></a>            &quot; 85% 17/20 [00:08&lt;00:00,  4.08it/s]\n&quot;, 
<a name="l183"><span class="ln">183  </span></a>            &quot; 90% 18/20 [00:08&lt;00:00,  4.10it/s]\n&quot;, 
<a name="l184"><span class="ln">184  </span></a>            &quot; 95% 19/20 [00:09&lt;00:00,  4.11it/s]\n&quot;, 
<a name="l185"><span class="ln">185  </span></a>            &quot;100% 20/20 [00:09&lt;00:00,  2.15it/s]\n&quot;, 
<a name="l186"><span class="ln">186  </span></a>            &quot;Total progress: 100% 20/20 [00:05&lt;00:00,  3.52it/s]\n&quot;, 
<a name="l187"><span class="ln">187  </span></a>            &quot;Interrupted with signal 2 in &lt;frame at 0x7fe77eaa9230, file '/usr/local/lib/python3.7/dist-packages/gradio/blocks.py', line 1238, code block_thread&gt;\n&quot; 
<a name="l188"><span class="ln">188  </span></a>          ] 
<a name="l189"><span class="ln">189  </span></a>        } 
<a name="l190"><span class="ln">190  </span></a>      ] 
<a name="l191"><span class="ln">191  </span></a>    }, 
<a name="l192"><span class="ln">192  </span></a>    { 
<a name="l193"><span class="ln">193  </span></a>      &quot;cell_type&quot;: &quot;markdown&quot;, 
<a name="l194"><span class="ln">194  </span></a>      &quot;source&quot;: [ 
<a name="l195"><span class="ln">195  </span></a>        &quot;commands for ***after*** you have gotten done with a session\n&quot;, 
<a name="l196"><span class="ln">196  </span></a>        &quot;============================================================================&quot; 
<a name="l197"><span class="ln">197  </span></a>      ], 
<a name="l198"><span class="ln">198  </span></a>      &quot;metadata&quot;: { 
<a name="l199"><span class="ln">199  </span></a>        &quot;id&quot;: &quot;T3957x2AY7iP&quot; 
<a name="l200"><span class="ln">200  </span></a>      } 
<a name="l201"><span class="ln">201  </span></a>    }, 
<a name="l202"><span class="ln">202  </span></a>    { 
<a name="l203"><span class="ln">203  </span></a>      &quot;cell_type&quot;: &quot;markdown&quot;, 
<a name="l204"><span class="ln">204  </span></a>      &quot;source&quot;: [ 
<a name="l205"><span class="ln">205  </span></a>        &quot;Zip images for downloading on local drive (click the folder icon on the left, the one below {x})&quot; 
<a name="l206"><span class="ln">206  </span></a>      ], 
<a name="l207"><span class="ln">207  </span></a>      &quot;metadata&quot;: { 
<a name="l208"><span class="ln">208  </span></a>        &quot;id&quot;: &quot;aCtJffM2ZE06&quot; 
<a name="l209"><span class="ln">209  </span></a>      } 
<a name="l210"><span class="ln">210  </span></a>    }, 
<a name="l211"><span class="ln">211  </span></a>    { 
<a name="l212"><span class="ln">212  </span></a>      &quot;cell_type&quot;: &quot;code&quot;, 
<a name="l213"><span class="ln">213  </span></a>      &quot;source&quot;: [ 
<a name="l214"><span class="ln">214  </span></a>        &quot;!zip -r /content/stable-diffusion-webui /content/stable-diffusion-webui/outputs &quot; 
<a name="l215"><span class="ln">215  </span></a>      ], 
<a name="l216"><span class="ln">216  </span></a>      &quot;metadata&quot;: { 
<a name="l217"><span class="ln">217  </span></a>        &quot;id&quot;: &quot;TmRqNyiAZCHu&quot; 
<a name="l218"><span class="ln">218  </span></a>      }, 
<a name="l219"><span class="ln">219  </span></a>      &quot;execution_count&quot;: null, 
<a name="l220"><span class="ln">220  </span></a>      &quot;outputs&quot;: [] 
<a name="l221"><span class="ln">221  </span></a>    }, 
<a name="l222"><span class="ln">222  </span></a>    { 
<a name="l223"><span class="ln">223  </span></a>      &quot;cell_type&quot;: &quot;markdown&quot;, 
<a name="l224"><span class="ln">224  </span></a>      &quot;source&quot;: [ 
<a name="l225"><span class="ln">225  </span></a>        &quot;Save images to Google Drive **Warning: this will cause google to scan your drive, so if you intend to use this and worry about that kind of stuff, probablly just set this up on a clean account that's just for this colab**&quot; 
<a name="l226"><span class="ln">226  </span></a>      ], 
<a name="l227"><span class="ln">227  </span></a>      &quot;metadata&quot;: { 
<a name="l228"><span class="ln">228  </span></a>        &quot;id&quot;: &quot;tcslU-S2ZNr9&quot; 
<a name="l229"><span class="ln">229  </span></a>      } 
<a name="l230"><span class="ln">230  </span></a>    }, 
<a name="l231"><span class="ln">231  </span></a>    { 
<a name="l232"><span class="ln">232  </span></a>      &quot;cell_type&quot;: &quot;code&quot;, 
<a name="l233"><span class="ln">233  </span></a>      &quot;source&quot;: [ 
<a name="l234"><span class="ln">234  </span></a>        &quot;from google.colab import drive # type: ignore\n&quot;, 
<a name="l235"><span class="ln">235  </span></a>        &quot;\n&quot;, 
<a name="l236"><span class="ln">236  </span></a>        &quot;try:\n&quot;, 
<a name="l237"><span class="ln">237  </span></a>        &quot;   drive_path = \&quot;/content/drive\&quot;\n&quot;, 
<a name="l238"><span class="ln">238  </span></a>        &quot;   drive.mount(drive_path,force_remount=False)\n&quot;, 
<a name="l239"><span class="ln">239  </span></a>        &quot;except:\n&quot;, 
<a name="l240"><span class="ln">240  </span></a>        &quot;   print(\&quot;...error mounting drive or with drive path variables\&quot;)\n&quot;, 
<a name="l241"><span class="ln">241  </span></a>        &quot;\n&quot;, 
<a name="l242"><span class="ln">242  </span></a>        &quot;!cp -r \&quot;/content/stable-diffusion-webui/outputs\&quot; \&quot;/content/drive/MyDrive\&quot;&quot; 
<a name="l243"><span class="ln">243  </span></a>      ], 
<a name="l244"><span class="ln">244  </span></a>      &quot;metadata&quot;: { 
<a name="l245"><span class="ln">245  </span></a>        &quot;id&quot;: &quot;-N0lnu-TZOTW&quot; 
<a name="l246"><span class="ln">246  </span></a>      }, 
<a name="l247"><span class="ln">247  </span></a>      &quot;execution_count&quot;: null, 
<a name="l248"><span class="ln">248  </span></a>      &quot;outputs&quot;: [] 
<a name="l249"><span class="ln">249  </span></a>    } 
<a name="l250"><span class="ln">250  </span></a>  ] 
<a name="l251"><span class="ln">251  </span></a>}</span></pre>
</body>
</html>